{
 "cells": [
  {
   "cell_type": "markdown",
   "id": "1fcd8190-59c3-41c0-aaf4-c78e842a9c9d",
   "metadata": {},
   "source": [
    "### Comments and Documentation\n",
    "\n",
    "##### Comments are used to explain code when the basic code itself isn't clear.\n",
    "\n",
    "##### Python ignores comments, and so will not execute code in there, or raise syntax errors of plain english sentences."
   ]
  },
  {
   "cell_type": "markdown",
   "id": "4732fc4e-65a4-4931-a8b7-04b4517eacb8",
   "metadata": {},
   "source": [
    "##### <span style=\"color:#006d77;\"> Single line comments begin with the hash character (#) and are terminated by the end of line. </span>"
   ]
  },
  {
   "cell_type": "markdown",
   "id": "567e531e-8d4a-41e9-93f8-3d13874984d7",
   "metadata": {},
   "source": [
    "single line comment"
   ]
  },
  {
   "cell_type": "code",
   "execution_count": 1,
   "id": "80fe3f3d-db20-436e-b379-b19ad5eddf99",
   "metadata": {},
   "outputs": [],
   "source": [
    "# This is a single line comment in python"
   ]
  },
  {
   "cell_type": "markdown",
   "id": "2d0309a5-13d3-4a1a-9eae-5d7d7389caca",
   "metadata": {},
   "source": [
    "Inline comment"
   ]
  },
  {
   "cell_type": "code",
   "execution_count": 2,
   "id": "161f64b0-b340-4790-ad0f-f97921e4bf61",
   "metadata": {},
   "outputs": [
    {
     "name": "stdout",
     "output_type": "stream",
     "text": [
      "Hello World\n"
     ]
    }
   ],
   "source": [
    "print('Hello World') # This is a inline comment"
   ]
  },
  {
   "cell_type": "markdown",
   "id": "f7c343cf-d093-4bb1-b924-5839413b8bcd",
   "metadata": {},
   "source": [
    "Comments spanning multiple lines have \"\"\" or ''' on either end.\n",
    "\n",
    "This is same as a multiline string, but they can be used as comments."
   ]
  },
  {
   "cell_type": "code",
   "execution_count": 5,
   "id": "b5ba4795-b04e-433b-b568-7fd63ec2fc1e",
   "metadata": {},
   "outputs": [
    {
     "data": {
      "text/plain": [
       "'This is a comment.\\nFor multiline documentation of functions, classes and modules.\\n'"
      ]
     },
     "execution_count": 5,
     "metadata": {},
     "output_type": "execute_result"
    }
   ],
   "source": [
    "\"\"\"This is a comment.\n",
    "For multiline documentation of functions, classes and modules.\n",
    "\"\"\""
   ]
  },
  {
   "cell_type": "markdown",
   "id": "bb29ec48-518c-4442-a49a-f646aedfec6b",
   "metadata": {},
   "source": [
    "#### Programatically accessing docstrings\n",
    "\n",
    "##### Docstrings are-unlike regular comments - stored as an attribute of the function they document, here we can access them programatically."
   ]
  },
  {
   "cell_type": "code",
   "execution_count": 6,
   "id": "bf02e22e-ddd6-4869-a175-245deac4e91f",
   "metadata": {},
   "outputs": [],
   "source": [
    "# Example\n",
    "\n",
    "def func():\n",
    "    \"\"\"This is just a function. \"\"\"\n",
    "    return"
   ]
  },
  {
   "cell_type": "markdown",
   "id": "b03c8a1b-1a83-48be-84c5-c7b6eb15be56",
   "metadata": {},
   "source": [
    "The docstring can be accessed using the _ _ _doc_ _ _ attribute."
   ]
  },
  {
   "cell_type": "code",
   "execution_count": 8,
   "id": "b36c2d77-9f66-487c-a39d-c473653100d3",
   "metadata": {},
   "outputs": [
    {
     "name": "stdout",
     "output_type": "stream",
     "text": [
      "This is just a function. \n"
     ]
    }
   ],
   "source": [
    "#example\n",
    "print(func.__doc__)"
   ]
  },
  {
   "cell_type": "code",
   "execution_count": 9,
   "id": "6da74145-9d1f-4354-84b4-87ad620bb557",
   "metadata": {
    "tags": []
   },
   "outputs": [
    {
     "name": "stdout",
     "output_type": "stream",
     "text": [
      "Help on function func in module __main__:\n",
      "\n",
      "func()\n",
      "    This is just a function.\n",
      "\n"
     ]
    }
   ],
   "source": [
    "help(func)"
   ]
  },
  {
   "cell_type": "markdown",
   "id": "3bd6e258-137d-41c3-85ff-a8c0e53c09d0",
   "metadata": {},
   "source": [
    "function ._ _ _doc_ _ _ is just the actual docstring as string, while the __help__ function provides general information\n",
    "about a function, including the docstring. "
   ]
  },
  {
   "cell_type": "code",
   "execution_count": 13,
   "id": "5f8fbaaf-9e2c-47cf-99df-083fb661bb25",
   "metadata": {},
   "outputs": [],
   "source": [
    "#more examples\n",
    "\n",
    "def greet(name, greeting=\"Hello\"):\n",
    "    \"\"\"Print a greeting to the user 'name'\n",
    "    \n",
    "    optional parameter 'greeting' can change with anything you want to wish.\"\"\"\n",
    "    print(\"{} {}\".format(greeting, name))"
   ]
  },
  {
   "cell_type": "code",
   "execution_count": 14,
   "id": "371118d8-a4c6-4ba7-9fa9-01083637f484",
   "metadata": {},
   "outputs": [
    {
     "name": "stdout",
     "output_type": "stream",
     "text": [
      "Help on function greet in module __main__:\n",
      "\n",
      "greet(name, greeting='Hello')\n",
      "    Print a greeting to the user 'name'\n",
      "    \n",
      "    optional parameter 'greeting' can change with anything you want to wish.\n",
      "\n"
     ]
    }
   ],
   "source": [
    "help(greet)"
   ]
  },
  {
   "cell_type": "code",
   "execution_count": null,
   "id": "ebf1a3e1-a43c-4ca0-852a-71107a79496d",
   "metadata": {},
   "outputs": [],
   "source": []
  }
 ],
 "metadata": {
  "kernelspec": {
   "display_name": "Python 3 (ipykernel)",
   "language": "python",
   "name": "python3"
  },
  "language_info": {
   "codemirror_mode": {
    "name": "ipython",
    "version": 3
   },
   "file_extension": ".py",
   "mimetype": "text/x-python",
   "name": "python",
   "nbconvert_exporter": "python",
   "pygments_lexer": "ipython3",
   "version": "3.10.0"
  }
 },
 "nbformat": 4,
 "nbformat_minor": 5
}
