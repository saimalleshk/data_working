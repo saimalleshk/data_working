{
  "nbformat": 4,
  "nbformat_minor": 0,
  "metadata": {
    "colab": {
      "provenance": [],
      "authorship_tag": "ABX9TyNJNlviMopU5+9eS7HrIHDp",
      "include_colab_link": true
    },
    "kernelspec": {
      "name": "python3",
      "display_name": "Python 3"
    },
    "language_info": {
      "name": "python"
    }
  },
  "cells": [
    {
      "cell_type": "markdown",
      "metadata": {
        "id": "view-in-github",
        "colab_type": "text"
      },
      "source": [
        "<a href=\"https://colab.research.google.com/github/saimalleshk/data_working/blob/main/Arrays.ipynb\" target=\"_parent\"><img src=\"https://colab.research.google.com/assets/colab-badge.svg\" alt=\"Open In Colab\"/></a>"
      ]
    },
    {
      "cell_type": "markdown",
      "source": [
        "1) Sum of Array Elements\n",
        "\n",
        "Problem: Calculate the sum of elements in an integer array.\n",
        "Input: [1, 2, 3, 4, 5]"
      ],
      "metadata": {
        "id": "xUG0-3kEAfji"
      }
    },
    {
      "cell_type": "code",
      "source": [
        "arr = [1, 2, 3, 4, 5]\n",
        "sum_arr = sum(arr)\n",
        "print(\"Sum of array elements:\", sum_arr)\n"
      ],
      "metadata": {
        "id": "IotQXog9Alb2"
      },
      "execution_count": null,
      "outputs": []
    },
    {
      "cell_type": "markdown",
      "source": [
        "2) Find Maximum Element\n",
        "\n",
        "Problem: Find the maximum element in an array.\n",
        "Input: [7, 2, 9, 1, 5]"
      ],
      "metadata": {
        "id": "bD8kW_5gAnfO"
      }
    },
    {
      "cell_type": "code",
      "source": [
        "arr = [7, 2, 9, 1, 5]\n",
        "max_element = max(arr)\n",
        "print(\"Maximum element in the array:\", max_element)\n"
      ],
      "metadata": {
        "id": "B3fvSwTmAs9c"
      },
      "execution_count": null,
      "outputs": []
    },
    {
      "cell_type": "markdown",
      "source": [
        "3) Array Length\n",
        "\n",
        "Problem: Calculate the length of an array.\n",
        "Input: [3, 1, 4, 1, 5, 9]"
      ],
      "metadata": {
        "id": "a_sohK9mA1MH"
      }
    },
    {
      "cell_type": "code",
      "source": [
        "arr = [3, 1, 4, 1, 5, 9]\n",
        "length = len(arr)\n",
        "print(\"Length of the array:\", length)\n"
      ],
      "metadata": {
        "id": "Igadx-zlA5qO"
      },
      "execution_count": null,
      "outputs": []
    },
    {
      "cell_type": "markdown",
      "source": [
        "4) Reverse an Array\n",
        "\n",
        "Problem: Reverse the elements of an array.\n",
        "Input: [1, 2, 3, 4, 5]"
      ],
      "metadata": {
        "id": "fvG63HSeA7j1"
      }
    },
    {
      "cell_type": "code",
      "source": [
        "arr = [1, 2, 3, 4, 5]\n",
        "reversed_arr = arr[::-1]\n",
        "print(\"Reversed array:\", reversed_arr)\n"
      ],
      "metadata": {
        "id": "hjnZYUqHA_U4"
      },
      "execution_count": null,
      "outputs": []
    },
    {
      "cell_type": "markdown",
      "source": [
        "5) Check if Element Exists\n",
        "\n",
        "Problem: Check if a specified element exists in an array.\n",
        "Input: [1, 3, 5, 7, 9], Element to check: 5"
      ],
      "metadata": {
        "id": "_IgeYQwHBBdx"
      }
    },
    {
      "cell_type": "code",
      "source": [
        "arr = [1, 3, 5, 7, 9]\n",
        "element = 5\n",
        "if element in arr:\n",
        "    print(f\"{element} exists in the array.\")\n",
        "else:\n",
        "    print(f\"{element} does not exist in the array.\")\n"
      ],
      "metadata": {
        "id": "3o45AYSpBGls"
      },
      "execution_count": null,
      "outputs": []
    },
    {
      "cell_type": "markdown",
      "source": [
        "6) Count Occurrences\n",
        "\n",
        "Problem: Count occurrences of a specified element in an array.\n",
        "Input: [1, 2, 2, 3, 2, 4, 2], Element to count: 2\n"
      ],
      "metadata": {
        "id": "ZxUJ1VqGBIaM"
      }
    },
    {
      "cell_type": "code",
      "source": [
        "arr = [1, 2, 2, 3, 2, 4, 2]\n",
        "element = 2\n",
        "count = arr.count(element)\n",
        "print(f\"Number of occurrences of {element}: {count}\")\n"
      ],
      "metadata": {
        "id": "dr2R7EKSBOcA"
      },
      "execution_count": null,
      "outputs": []
    },
    {
      "cell_type": "markdown",
      "source": [
        "7) Remove Duplicates\n",
        "\n",
        "Problem: Remove duplicates from an array.\n",
        "Input: [1, 2, 2, 3, 4, 4, 5]"
      ],
      "metadata": {
        "id": "Ak5sbbDIBQbH"
      }
    },
    {
      "cell_type": "code",
      "source": [
        "arr = [1, 2, 2, 3, 4, 4, 5]\n",
        "unique_arr = list(set(arr))\n",
        "print(\"Array with duplicates removed:\", unique_arr)\n"
      ],
      "metadata": {
        "id": "FL7Got-IBTbg"
      },
      "execution_count": null,
      "outputs": []
    },
    {
      "cell_type": "markdown",
      "source": [
        "8) Sort Array\n",
        "\n",
        "Problem: Sort elements of an array in ascending order.\n",
        "Input: [5, 2, 7, 1, 3]"
      ],
      "metadata": {
        "id": "_dT-tp0cBW1D"
      }
    },
    {
      "cell_type": "code",
      "source": [
        "arr = [5, 2, 7, 1, 3]\n",
        "sorted_arr = sorted(arr)\n",
        "print(\"Sorted array:\", sorted_arr)\n"
      ],
      "metadata": {
        "id": "kHruNJapBbgy"
      },
      "execution_count": null,
      "outputs": []
    },
    {
      "cell_type": "markdown",
      "source": [
        "9) Insert Element\n",
        "\n",
        "Problem: Insert a new element at a specified position in an array.\n",
        "Input: [1, 2, 3, 4, 5], Insert '10' at position '2'"
      ],
      "metadata": {
        "id": "qQfj7m3aBdNn"
      }
    },
    {
      "cell_type": "code",
      "source": [
        "arr = [1, 2, 3, 4, 5]\n",
        "element = 10\n",
        "position = 2\n",
        "arr.insert(position, element)\n",
        "print(\"Array after insertion:\", arr)\n"
      ],
      "metadata": {
        "id": "Qw6o03iOBkv3"
      },
      "execution_count": null,
      "outputs": []
    },
    {
      "cell_type": "markdown",
      "source": [
        "10) Delete Element\n",
        "\n",
        "Problem: Delete an element from a specific position in an array.\n",
        "Input: [1, 2, 3, 4, 5], Delete element at position 3"
      ],
      "metadata": {
        "id": "tgnZBfgWBo3Z"
      }
    },
    {
      "cell_type": "code",
      "source": [
        "arr = [1, 2, 3, 4, 5]\n",
        "position = 3\n",
        "del arr[position]\n",
        "print(\"Array after deletion:\", arr)\n"
      ],
      "metadata": {
        "id": "aA4UDjOPBtKC"
      },
      "execution_count": null,
      "outputs": []
    },
    {
      "cell_type": "markdown",
      "source": [
        "11) Remove Specific Element\n",
        "\n",
        "Problem: Remove a specific element from an array.\n",
        "Input: [10, 20, 30, 40, 50], Element 30"
      ],
      "metadata": {
        "id": "WsNaKIrYBvI6"
      }
    },
    {
      "cell_type": "code",
      "source": [
        "arr = [10, 20, 30, 40, 50]\n",
        "element = 30\n",
        "arr.remove(element)\n",
        "print(\"Array after removing element\", element, \":\", arr)\n"
      ],
      "metadata": {
        "id": "IOVCBxIvCAeh"
      },
      "execution_count": null,
      "outputs": []
    }
  ]
}