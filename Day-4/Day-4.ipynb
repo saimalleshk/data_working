{
  "metadata": {
    "language_info": {
      "name": "python",
      "version": "3.7.12",
      "mimetype": "text/x-python",
      "codemirror_mode": {
        "name": "ipython",
        "version": 3
      },
      "pygments_lexer": "ipython3",
      "nbconvert_exporter": "python",
      "file_extension": ".py"
    },
    "kernelspec": {
      "name": "python3",
      "display_name": "Python 3 (ipykernel)",
      "language": "python"
    },
    "colab": {
      "name": "Day-4.ipynb",
      "provenance": [],
      "include_colab_link": true
    }
  },
  "nbformat_minor": 5,
  "nbformat": 4,
  "cells": [
    {
      "cell_type": "markdown",
      "metadata": {
        "id": "view-in-github",
        "colab_type": "text"
      },
      "source": [
        "<a href=\"https://colab.research.google.com/github/saimalleshk/data_working/blob/main/Day-4/Day-4.ipynb\" target=\"_parent\"><img src=\"https://colab.research.google.com/assets/colab-badge.svg\" alt=\"Open In Colab\"/></a>"
      ]
    },
    {
      "cell_type": "markdown",
      "source": [
        "# Python Notes"
      ],
      "metadata": {
        "id": "a671bf56-5d66-40ee-9750-9c9beaac35dd"
      },
      "id": "a671bf56-5d66-40ee-9750-9c9beaac35dd"
    },
    {
      "cell_type": "markdown",
      "source": [
        "Python is a widely used high-level programming language for general-purpose programming, created by <b>Guido van\n",
        "Rossum and first released in 1991</b>. Python features a dynamic type system and automatic memory management\n",
        "and supports multiple programming paradigms, including object-oriented, imperative, functional programming,\n",
        "and procedural styles. It has a large and comprehensive standard library."
      ],
      "metadata": {
        "id": "0347fa88-cc6f-4baf-9323-7004cb3e2ca8"
      },
      "id": "0347fa88-cc6f-4baf-9323-7004cb3e2ca8"
    },
    {
      "cell_type": "markdown",
      "source": [
        "##### To check which version of python is running/installed in your environment, use this command for jupyter notebooks"
      ],
      "metadata": {
        "id": "82f1fe4c-6060-4d2e-8ec6-c4646d2ffa77"
      },
      "id": "82f1fe4c-6060-4d2e-8ec6-c4646d2ffa77"
    },
    {
      "cell_type": "code",
      "source": [
        "!python --version"
      ],
      "metadata": {
        "trusted": true,
        "id": "179b9c62-5c7c-4bcc-977b-838bac2370d8",
        "outputId": "a5b29dd8-08d3-42a9-99cf-74b4d91c2de2"
      },
      "execution_count": null,
      "outputs": [
        {
          "name": "stdout",
          "text": "Python 3.7.12\n",
          "output_type": "stream"
        }
      ],
      "id": "179b9c62-5c7c-4bcc-977b-838bac2370d8"
    },
    {
      "cell_type": "markdown",
      "source": [
        "### Package Management\n",
        "\n",
        "###### The PyPA recommended tool for installing Python packages using command pip. \n",
        "\n",
        "###### To install, in your environment, execute using this command --->  pip install < the package name >"
      ],
      "metadata": {
        "id": "a843216c-c5f3-48ee-a032-6911698c8e0b"
      },
      "id": "a843216c-c5f3-48ee-a032-6911698c8e0b"
    },
    {
      "cell_type": "code",
      "source": [
        "! pip install numpy # installs numpy library to your working environment, here it is already installed so showing as requirement already satisfied."
      ],
      "metadata": {
        "trusted": true,
        "id": "ca0d45a1-76ac-4ade-9985-e17e627fa85e",
        "outputId": "95efcaa8-5abf-4b61-c61a-71722891e383"
      },
      "execution_count": null,
      "outputs": [
        {
          "name": "stdout",
          "text": "Requirement already satisfied: numpy in /srv/conda/envs/notebook/lib/python3.7/site-packages (1.21.6)\n",
          "output_type": "stream"
        }
      ],
      "id": "ca0d45a1-76ac-4ade-9985-e17e627fa85e"
    },
    {
      "cell_type": "code",
      "source": [
        "! pip install pandas # installs pandas library to your working environment, here it is already installed so showing as requirement already satisfied."
      ],
      "metadata": {
        "trusted": true,
        "id": "7a7ac3f9-710f-47c7-a535-0ef9a7453125",
        "outputId": "eb6ead0f-3834-4c6d-f798-7638c8433bf8"
      },
      "execution_count": null,
      "outputs": [
        {
          "name": "stdout",
          "text": "Requirement already satisfied: pandas in /srv/conda/envs/notebook/lib/python3.7/site-packages (1.3.5)\nRequirement already satisfied: pytz>=2017.3 in /srv/conda/envs/notebook/lib/python3.7/site-packages (from pandas) (2021.3)\nRequirement already satisfied: numpy>=1.17.3 in /srv/conda/envs/notebook/lib/python3.7/site-packages (from pandas) (1.21.6)\nRequirement already satisfied: python-dateutil>=2.7.3 in /srv/conda/envs/notebook/lib/python3.7/site-packages (from pandas) (2.8.2)\nRequirement already satisfied: six>=1.5 in /srv/conda/envs/notebook/lib/python3.7/site-packages (from python-dateutil>=2.7.3->pandas) (1.16.0)\n",
          "output_type": "stream"
        }
      ],
      "id": "7a7ac3f9-710f-47c7-a535-0ef9a7453125"
    },
    {
      "cell_type": "code",
      "source": [
        "! pip install matplotlib # installs matplotlib library to your working environment."
      ],
      "metadata": {
        "trusted": true,
        "id": "a6552604-991d-406c-ae30-75deae57407b",
        "outputId": "d7d115cf-4e9c-482e-bbca-5e8de47a82de"
      },
      "execution_count": null,
      "outputs": [
        {
          "name": "stdout",
          "text": "Collecting matplotlib\n  Downloading matplotlib-3.5.2-cp37-cp37m-manylinux_2_5_x86_64.manylinux1_x86_64.whl (11.2 MB)\n     |████████████████████████████████| 11.2 MB 8.0 MB/s            \n\u001b[?25hRequirement already satisfied: pyparsing>=2.2.1 in /srv/conda/envs/notebook/lib/python3.7/site-packages (from matplotlib) (3.0.7)\nCollecting cycler>=0.10\n  Downloading cycler-0.11.0-py3-none-any.whl (6.4 kB)\nRequirement already satisfied: packaging>=20.0 in /srv/conda/envs/notebook/lib/python3.7/site-packages (from matplotlib) (21.3)\nCollecting pillow>=6.2.0\n  Downloading Pillow-9.1.0-cp37-cp37m-manylinux_2_17_x86_64.manylinux2014_x86_64.whl (4.3 MB)\n     |████████████████████████████████| 4.3 MB 29.8 MB/s            \n\u001b[?25hRequirement already satisfied: python-dateutil>=2.7 in /srv/conda/envs/notebook/lib/python3.7/site-packages (from matplotlib) (2.8.2)\nCollecting fonttools>=4.22.0\n  Downloading fonttools-4.33.3-py3-none-any.whl (930 kB)\n     |████████████████████████████████| 930 kB 51.3 MB/s            \n\u001b[?25hCollecting kiwisolver>=1.0.1\n  Downloading kiwisolver-1.4.2-cp37-cp37m-manylinux_2_5_x86_64.manylinux1_x86_64.whl (1.1 MB)\n     |████████████████████████████████| 1.1 MB 57.8 MB/s            \n\u001b[?25hRequirement already satisfied: numpy>=1.17 in /srv/conda/envs/notebook/lib/python3.7/site-packages (from matplotlib) (1.21.6)\nRequirement already satisfied: typing-extensions in /srv/conda/envs/notebook/lib/python3.7/site-packages (from kiwisolver>=1.0.1->matplotlib) (4.0.1)\nRequirement already satisfied: six>=1.5 in /srv/conda/envs/notebook/lib/python3.7/site-packages (from python-dateutil>=2.7->matplotlib) (1.16.0)\nInstalling collected packages: pillow, kiwisolver, fonttools, cycler, matplotlib\nSuccessfully installed cycler-0.11.0 fonttools-4.33.3 kiwisolver-1.4.2 matplotlib-3.5.2 pillow-9.1.0\n",
          "output_type": "stream"
        }
      ],
      "id": "a6552604-991d-406c-ae30-75deae57407b"
    },
    {
      "cell_type": "markdown",
      "source": [
        "#### Block Indentation\n",
        "\n",
        "##### Python uses  indentation to define control and loop constructs. This contributes to Python's readability, however, we need to pay close attention to the use of whitespace. Thus, editor miscalibration could result in code that behaves in unexpected ways."
      ],
      "metadata": {
        "id": "d2735c18-52cd-4529-bba5-bf3500ed006b"
      },
      "id": "d2735c18-52cd-4529-bba5-bf3500ed006b"
    },
    {
      "cell_type": "code",
      "source": [
        ""
      ],
      "metadata": {
        "id": "4fea7833-97bb-48b7-9399-02f3a485f15a"
      },
      "execution_count": null,
      "outputs": [],
      "id": "4fea7833-97bb-48b7-9399-02f3a485f15a"
    },
    {
      "cell_type": "code",
      "source": [
        ""
      ],
      "metadata": {
        "id": "911a0c5c-26ec-4dc3-b445-1445e21f546a"
      },
      "execution_count": null,
      "outputs": [],
      "id": "911a0c5c-26ec-4dc3-b445-1445e21f546a"
    }
  ]
}