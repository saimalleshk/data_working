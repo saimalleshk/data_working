{
 "cells": [
  {
   "cell_type": "markdown",
   "id": "f4887bc2",
   "metadata": {
    "colab_type": "text",
    "id": "view-in-github"
   },
   "source": [
    "[![Binder](https://mybinder.org/badge_logo.svg)](https://mybinder.org/v2/gh/saimalleshk/data_working/main?labpath=Day-4%2FDay-4.ipynb)\n",
    "\n",
    "\n",
    "<a href=\"https://colab.research.google.com/github/saimalleshk/data_working/blob/main/Day-4/Day-4.ipynb\" target=\"_parent\"><img src=\"https://colab.research.google.com/assets/colab-badge.svg\" alt=\"Open In Colab\"/></a>\n",
    "\n"
   ]
  },
  {
   "cell_type": "markdown",
   "id": "a671bf56-5d66-40ee-9750-9c9beaac35dd",
   "metadata": {
    "id": "a671bf56-5d66-40ee-9750-9c9beaac35dd"
   },
   "source": [
    "# Python Notes"
   ]
  },
  {
   "cell_type": "markdown",
   "id": "0347fa88-cc6f-4baf-9323-7004cb3e2ca8",
   "metadata": {
    "id": "0347fa88-cc6f-4baf-9323-7004cb3e2ca8"
   },
   "source": [
    "Python is a widely used high-level programming language for general-purpose programming, created by <b>Guido van\n",
    "Rossum and first released in 1991</b>. Python features a dynamic type system and automatic memory management\n",
    "and supports multiple programming paradigms, including object-oriented, imperative, functional programming,\n",
    "and procedural styles. It has a large and comprehensive standard library."
   ]
  },
  {
   "cell_type": "markdown",
   "id": "82f1fe4c-6060-4d2e-8ec6-c4646d2ffa77",
   "metadata": {
    "id": "82f1fe4c-6060-4d2e-8ec6-c4646d2ffa77"
   },
   "source": [
    "##### To check which version of python is running/installed in your environment, use this command for jupyter notebooks"
   ]
  },
  {
   "cell_type": "code",
   "execution_count": 1,
   "id": "179b9c62-5c7c-4bcc-977b-838bac2370d8",
   "metadata": {
    "id": "179b9c62-5c7c-4bcc-977b-838bac2370d8",
    "outputId": "a5b29dd8-08d3-42a9-99cf-74b4d91c2de2"
   },
   "outputs": [
    {
     "name": "stdout",
     "output_type": "stream",
     "text": [
      "Python 3.7.12\n"
     ]
    }
   ],
   "source": [
    "!python --version"
   ]
  },
  {
   "cell_type": "markdown",
   "id": "a843216c-c5f3-48ee-a032-6911698c8e0b",
   "metadata": {
    "id": "a843216c-c5f3-48ee-a032-6911698c8e0b"
   },
   "source": [
    "### Package Management\n",
    "\n",
    "###### The PyPA recommended tool for installing Python packages using command pip. \n",
    "\n",
    "###### To install, in your environment, execute using this command --->  pip install < the package name >"
   ]
  },
  {
   "cell_type": "code",
   "execution_count": 2,
   "id": "ca0d45a1-76ac-4ade-9985-e17e627fa85e",
   "metadata": {
    "id": "ca0d45a1-76ac-4ade-9985-e17e627fa85e",
    "outputId": "95efcaa8-5abf-4b61-c61a-71722891e383"
   },
   "outputs": [
    {
     "name": "stdout",
     "output_type": "stream",
     "text": [
      "Collecting numpy\n",
      "  Downloading numpy-1.21.6-cp37-cp37m-manylinux_2_12_x86_64.manylinux2010_x86_64.whl (15.7 MB)\n",
      "     |████████████████████████████████| 15.7 MB 8.7 MB/s            \n",
      "\u001b[?25hInstalling collected packages: numpy\n",
      "Successfully installed numpy-1.21.6\n"
     ]
    }
   ],
   "source": [
    "! pip install numpy # installs numpy library to your working environment"
   ]
  },
  {
   "cell_type": "code",
   "execution_count": 3,
   "id": "7a7ac3f9-710f-47c7-a535-0ef9a7453125",
   "metadata": {
    "id": "7a7ac3f9-710f-47c7-a535-0ef9a7453125",
    "outputId": "eb6ead0f-3834-4c6d-f798-7638c8433bf8"
   },
   "outputs": [
    {
     "name": "stdout",
     "output_type": "stream",
     "text": [
      "Collecting pandas\n",
      "  Downloading pandas-1.3.5-cp37-cp37m-manylinux_2_17_x86_64.manylinux2014_x86_64.whl (11.3 MB)\n",
      "     |████████████████████████████████| 11.3 MB 8.8 MB/s            \n",
      "\u001b[?25hRequirement already satisfied: python-dateutil>=2.7.3 in /srv/conda/envs/notebook/lib/python3.7/site-packages (from pandas) (2.8.2)\n",
      "Requirement already satisfied: pytz>=2017.3 in /srv/conda/envs/notebook/lib/python3.7/site-packages (from pandas) (2021.3)\n",
      "Requirement already satisfied: numpy>=1.17.3 in /srv/conda/envs/notebook/lib/python3.7/site-packages (from pandas) (1.21.6)\n",
      "Requirement already satisfied: six>=1.5 in /srv/conda/envs/notebook/lib/python3.7/site-packages (from python-dateutil>=2.7.3->pandas) (1.16.0)\n",
      "Installing collected packages: pandas\n",
      "Successfully installed pandas-1.3.5\n"
     ]
    }
   ],
   "source": [
    "! pip install pandas # installs pandas library to your working environment, here it is already installed so showing as requirement already satisfied."
   ]
  },
  {
   "cell_type": "code",
   "execution_count": 4,
   "id": "a6552604-991d-406c-ae30-75deae57407b",
   "metadata": {
    "id": "a6552604-991d-406c-ae30-75deae57407b",
    "outputId": "d7d115cf-4e9c-482e-bbca-5e8de47a82de"
   },
   "outputs": [
    {
     "name": "stdout",
     "output_type": "stream",
     "text": [
      "Collecting matplotlib\n",
      "  Downloading matplotlib-3.5.2-cp37-cp37m-manylinux_2_5_x86_64.manylinux1_x86_64.whl (11.2 MB)\n",
      "     |████████████████████████████████| 11.2 MB 9.0 MB/s            \n",
      "\u001b[?25hRequirement already satisfied: packaging>=20.0 in /srv/conda/envs/notebook/lib/python3.7/site-packages (from matplotlib) (21.3)\n",
      "Requirement already satisfied: pyparsing>=2.2.1 in /srv/conda/envs/notebook/lib/python3.7/site-packages (from matplotlib) (3.0.7)\n",
      "Requirement already satisfied: python-dateutil>=2.7 in /srv/conda/envs/notebook/lib/python3.7/site-packages (from matplotlib) (2.8.2)\n",
      "Collecting cycler>=0.10\n",
      "  Downloading cycler-0.11.0-py3-none-any.whl (6.4 kB)\n",
      "Collecting fonttools>=4.22.0\n",
      "  Downloading fonttools-4.33.3-py3-none-any.whl (930 kB)\n",
      "     |████████████████████████████████| 930 kB 62.4 MB/s            \n",
      "\u001b[?25hCollecting pillow>=6.2.0\n",
      "  Downloading Pillow-9.1.0-cp37-cp37m-manylinux_2_17_x86_64.manylinux2014_x86_64.whl (4.3 MB)\n",
      "     |████████████████████████████████| 4.3 MB 31.5 MB/s            \n",
      "\u001b[?25hCollecting kiwisolver>=1.0.1\n",
      "  Downloading kiwisolver-1.4.2-cp37-cp37m-manylinux_2_5_x86_64.manylinux1_x86_64.whl (1.1 MB)\n",
      "     |████████████████████████████████| 1.1 MB 66.6 MB/s            \n",
      "\u001b[?25hRequirement already satisfied: numpy>=1.17 in /srv/conda/envs/notebook/lib/python3.7/site-packages (from matplotlib) (1.21.6)\n",
      "Requirement already satisfied: typing-extensions in /srv/conda/envs/notebook/lib/python3.7/site-packages (from kiwisolver>=1.0.1->matplotlib) (4.0.1)\n",
      "Requirement already satisfied: six>=1.5 in /srv/conda/envs/notebook/lib/python3.7/site-packages (from python-dateutil>=2.7->matplotlib) (1.16.0)\n",
      "Installing collected packages: pillow, kiwisolver, fonttools, cycler, matplotlib\n",
      "Successfully installed cycler-0.11.0 fonttools-4.33.3 kiwisolver-1.4.2 matplotlib-3.5.2 pillow-9.1.0\n"
     ]
    }
   ],
   "source": [
    "! pip install matplotlib # installs matplotlib library to your working environment."
   ]
  },
  {
   "cell_type": "markdown",
   "id": "d2735c18-52cd-4529-bba5-bf3500ed006b",
   "metadata": {
    "id": "d2735c18-52cd-4529-bba5-bf3500ed006b"
   },
   "source": [
    "#### Block Indentation\n",
    "\n",
    "##### Python uses  indentation to define control and loop constructs. This contributes to Python's readability, however, we need to pay close attention to the use of whitespace. Thus, editor miscalibration could result in code that behaves in unexpected ways.\n",
    "\n",
    "##### Python uses the colon symbol (:) and indentation for showing where blocks of code begin and end. That is, blocks in Python, such as functions, loops, if clauses and other constructs, have no ending identifiers. \n",
    "\n",
    "##### All blocks starts with a colon and then contain the indented lines below it. Always use 4spaces for indentation"
   ]
  },
  {
   "cell_type": "code",
   "execution_count": 5,
   "id": "4fea7833-97bb-48b7-9399-02f3a485f15a",
   "metadata": {
    "id": "4fea7833-97bb-48b7-9399-02f3a485f15a"
   },
   "outputs": [],
   "source": [
    "# example\n",
    "\n",
    "def my_function(): #This is a function definition. Note the colon(:)\n",
    "    a=2  #This line belongs to the function because it's indented\n",
    "    return a # This also belongs to same function"
   ]
  },
  {
   "cell_type": "code",
   "execution_count": 6,
   "id": "911a0c5c-26ec-4dc3-b445-1445e21f546a",
   "metadata": {
    "id": "911a0c5c-26ec-4dc3-b445-1445e21f546a"
   },
   "outputs": [
    {
     "name": "stdout",
     "output_type": "stream",
     "text": [
      "2\n"
     ]
    }
   ],
   "source": [
    "# In the previous block of code we created function, now lets try calling it.\n",
    "\n",
    "print(my_function()) # This is outside the function."
   ]
  },
  {
   "cell_type": "code",
   "execution_count": 9,
   "id": "4156605b-dff9-4c2f-93e8-1744d33957e0",
   "metadata": {},
   "outputs": [
    {
     "name": "stdout",
     "output_type": "stream",
     "text": [
      "3\n"
     ]
    }
   ],
   "source": [
    "# more examples\n",
    "a = 2\n",
    "b = 3\n",
    "if a > b:      # if block starts here\n",
    "    print(a)   # This is part of if block\n",
    "else:          # else must be at the same level as if\n",
    "    print(b)   # This line is part of the else block"
   ]
  },
  {
   "cell_type": "markdown",
   "id": "33bfa050-1497-4b92-a2c6-a06dbc6611db",
   "metadata": {},
   "source": [
    "An empty block causes Indentation error. In such cases, we can use <b>pass</b> command (a command which does nothing) when you have a block with no content."
   ]
  },
  {
   "cell_type": "code",
   "execution_count": 21,
   "id": "99e256ba-9021-407b-af37-a0d2203d13f5",
   "metadata": {},
   "outputs": [
    {
     "ename": "IndentationError",
     "evalue": "expected an indented block (3600135644.py, line 7)",
     "output_type": "error",
     "traceback": [
      "\u001b[0;36m  File \u001b[0;32m\"/tmp/ipykernel_113/3600135644.py\"\u001b[0;36m, line \u001b[0;32m7\u001b[0m\n\u001b[0;31m    print(a)\u001b[0m\n\u001b[0m        ^\u001b[0m\n\u001b[0;31mIndentationError\u001b[0m\u001b[0;31m:\u001b[0m expected an indented block\n"
     ]
    }
   ],
   "source": [
    "#example\n",
    "\n",
    "a = 2\n",
    "b = 3\n",
    "if a > b: \n",
    "    \n",
    "print(a)"
   ]
  },
  {
   "cell_type": "code",
   "execution_count": 22,
   "id": "f8baa0e2-241b-4cd1-93cf-6348917dc2b5",
   "metadata": {},
   "outputs": [
    {
     "name": "stdout",
     "output_type": "stream",
     "text": [
      "2\n"
     ]
    }
   ],
   "source": [
    "a = 2\n",
    "b = 3\n",
    "if a > b:\n",
    "    pass\n",
    "print(a)"
   ]
  },
  {
   "cell_type": "markdown",
   "id": "b1f5eb79-c509-4b72-bf3d-c63c7c59e9d8",
   "metadata": {},
   "source": [
    "### Creating Variables and assigning values\n",
    "\n",
    "#### To create a variable in python, you just need to specify the variable name and then assign a value to it.\n",
    "\n",
    "\n",
    "##### python uses <b>=</b> to assign values to variables. There is no need to declare variable in advance(or to assign a data type to it), assigning a variable itself declares and initializes the variable with that value. "
   ]
  },
  {
   "cell_type": "code",
   "execution_count": 1,
   "id": "ab75d0ab-1230-4919-a9bf-55ff9c49eee4",
   "metadata": {},
   "outputs": [
    {
     "name": "stdout",
     "output_type": "stream",
     "text": [
      "2\n",
      "3.14\n",
      "string\n",
      "True\n",
      "None\n"
     ]
    }
   ],
   "source": [
    "# Some examples assigning values to variables\n",
    "\n",
    "# Integers\n",
    "a = 2\n",
    "print(a)\n",
    "\n",
    "# Floating value\n",
    "pi = 3.14\n",
    "print(pi)\n",
    "\n",
    "# String\n",
    "b = 'string'\n",
    "print(b)\n",
    "\n",
    "# Boolean\n",
    "c = True\n",
    "print(c)\n",
    "\n",
    "# Empty value or Null type\n",
    "d = None\n",
    "print(d)\n",
    "\n",
    "\n"
   ]
  },
  {
   "cell_type": "markdown",
   "id": "cfe6fdf6-a320-44cc-816e-8912068171df",
   "metadata": {},
   "source": [
    "##### We cannot use python keywords as a valid variable name. Check the list of python keywords "
   ]
  },
  {
   "cell_type": "code",
   "execution_count": 2,
   "id": "54c32acf-e57a-4eb9-af49-3ef5d1950263",
   "metadata": {},
   "outputs": [
    {
     "name": "stdout",
     "output_type": "stream",
     "text": [
      "['False', 'None', 'True', 'and', 'as', 'assert', 'async', 'await', 'break', 'class', 'continue', 'def', 'del', 'elif', 'else', 'except', 'finally', 'for', 'from', 'global', 'if', 'import', 'in', 'is', 'lambda', 'nonlocal', 'not', 'or', 'pass', 'raise', 'return', 'try', 'while', 'with', 'yield']\n"
     ]
    }
   ],
   "source": [
    "import keyword\n",
    "print(keyword.kwlist)"
   ]
  },
  {
   "cell_type": "code",
   "execution_count": 3,
   "id": "5dfac744-de3c-44ae-a56d-650d3f15de0c",
   "metadata": {},
   "outputs": [
    {
     "ename": "SyntaxError",
     "evalue": "can't assign to literal (4198445752.py, line 1)",
     "output_type": "error",
     "traceback": [
      "\u001b[0;36m  File \u001b[0;32m\"/tmp/ipykernel_254/4198445752.py\"\u001b[0;36m, line \u001b[0;32m1\u001b[0m\n\u001b[0;31m    0 = 'string'\u001b[0m\n\u001b[0m                ^\u001b[0m\n\u001b[0;31mSyntaxError\u001b[0m\u001b[0;31m:\u001b[0m can't assign to literal\n"
     ]
    }
   ],
   "source": [
    "0 = 'string'"
   ]
  },
  {
   "cell_type": "markdown",
   "id": "6eee6637-db6b-487b-976a-ea59fe3c31d5",
   "metadata": {},
   "source": [
    "Note: Above command shows assigning value to variable with name starting 0. We cannot assign value to variables starting with numbers."
   ]
  },
  {
   "cell_type": "markdown",
   "id": "3d87f49a-305c-4c3f-8694-da6b5f4b94a4",
   "metadata": {},
   "source": [
    "##### Variable names must start with a letter or an underscore."
   ]
  },
  {
   "cell_type": "code",
   "execution_count": 6,
   "id": "63045fe9-017f-45fc-8519-021c450a2923",
   "metadata": {},
   "outputs": [],
   "source": [
    "# some examples\n",
    "x = True\n",
    "_y = True\n",
    "\n",
    "# runs with no error"
   ]
  },
  {
   "cell_type": "code",
   "execution_count": 7,
   "id": "1c5d0a73-acf6-40fc-b9d4-7c1c4b21b101",
   "metadata": {},
   "outputs": [
    {
     "ename": "SyntaxError",
     "evalue": "invalid syntax (1139634940.py, line 1)",
     "output_type": "error",
     "traceback": [
      "\u001b[0;36m  File \u001b[0;32m\"/tmp/ipykernel_254/1139634940.py\"\u001b[0;36m, line \u001b[0;32m1\u001b[0m\n\u001b[0;31m    9x = False\u001b[0m\n\u001b[0m     ^\u001b[0m\n\u001b[0;31mSyntaxError\u001b[0m\u001b[0;31m:\u001b[0m invalid syntax\n"
     ]
    }
   ],
   "source": [
    "9x = False"
   ]
  },
  {
   "cell_type": "code",
   "execution_count": 8,
   "id": "383bda35-0674-4e91-8aea-313e2cbc0fe7",
   "metadata": {},
   "outputs": [
    {
     "ename": "SyntaxError",
     "evalue": "invalid syntax (1871107412.py, line 1)",
     "output_type": "error",
     "traceback": [
      "\u001b[0;36m  File \u001b[0;32m\"/tmp/ipykernel_254/1871107412.py\"\u001b[0;36m, line \u001b[0;32m1\u001b[0m\n\u001b[0;31m    $y = False\u001b[0m\n\u001b[0m    ^\u001b[0m\n\u001b[0;31mSyntaxError\u001b[0m\u001b[0;31m:\u001b[0m invalid syntax\n"
     ]
    }
   ],
   "source": [
    "$y = False"
   ]
  },
  {
   "cell_type": "markdown",
   "id": "e830d202-1b2b-49a7-90ec-8567d45f6442",
   "metadata": {},
   "source": [
    "When you use <b>=</b> to do an assignment operation, what's on the left of = is a <b>name</b> for the <b>object</b> on the right. \n",
    "\n",
    "Finally, what = does is assign the <b> reference </b> of the object on the right to the <b> name </b> on the left."
   ]
  },
  {
   "cell_type": "code",
   "execution_count": null,
   "id": "fce0aa37-c941-4196-b4d4-aa7d7f470db2",
   "metadata": {},
   "outputs": [],
   "source": [
    "a_name = a_object # \"a_name\" is now a name for the reference to the object \"an_object\""
   ]
  },
  {
   "cell_type": "code",
   "execution_count": null,
   "id": "54825581-2250-47cf-86a9-31bd9febb78d",
   "metadata": {},
   "outputs": [],
   "source": []
  }
 ],
 "metadata": {
  "colab": {
   "include_colab_link": true,
   "name": "Day-4.ipynb",
   "provenance": []
  },
  "kernelspec": {
   "display_name": "Python 3 (ipykernel)",
   "language": "python",
   "name": "python3"
  },
  "language_info": {
   "codemirror_mode": {
    "name": "ipython",
    "version": 3
   },
   "file_extension": ".py",
   "mimetype": "text/x-python",
   "name": "python",
   "nbconvert_exporter": "python",
   "pygments_lexer": "ipython3",
   "version": "3.7.12"
  }
 },
 "nbformat": 4,
 "nbformat_minor": 5
}
